{
 "cells": [
  {
   "cell_type": "code",
   "execution_count": 89,
   "id": "initial_id",
   "metadata": {
    "collapsed": true,
    "ExecuteTime": {
     "end_time": "2023-09-21T05:49:33.344312Z",
     "start_time": "2023-09-21T05:49:33.339317Z"
    }
   },
   "outputs": [],
   "source": [
    "import pandas as pd"
   ]
  },
  {
   "cell_type": "markdown",
   "source": [
    "# Data Loading"
   ],
   "metadata": {
    "collapsed": false
   },
   "id": "bf5d86e2f70b2db1"
  },
  {
   "cell_type": "code",
   "execution_count": 90,
   "outputs": [],
   "source": [
    "df = pd.read_csv('../data/GGWP-Toxic-Behavior/data/labeled/combined.csv')"
   ],
   "metadata": {
    "collapsed": false,
    "ExecuteTime": {
     "end_time": "2023-09-21T05:49:33.698236Z",
     "start_time": "2023-09-21T05:49:33.694592Z"
    }
   },
   "id": "bdb896085b9bc0be"
  },
  {
   "cell_type": "code",
   "execution_count": 91,
   "outputs": [
    {
     "data": {
      "text/plain": "   index                                               text  toxic  \\\n0      0                                   real faker tweet      0   \n1      1                                              Lmfao      0   \n2      2  bruh, the best teemo player from my country is...      0   \n3      3                me and nunu tiered 3 simped for adc      0   \n4      4  yeah but i think since seraphine was released ...      0   \n\n   severe_toxic  obscene  threat  insult  identity_hate  \n0             0        0       0       0              0  \n1             0        0       0       0              0  \n2             0        0       0       0              0  \n3             0        0       0       0              0  \n4             0        0       0       0              0  ",
      "text/html": "<div>\n<style scoped>\n    .dataframe tbody tr th:only-of-type {\n        vertical-align: middle;\n    }\n\n    .dataframe tbody tr th {\n        vertical-align: top;\n    }\n\n    .dataframe thead th {\n        text-align: right;\n    }\n</style>\n<table border=\"1\" class=\"dataframe\">\n  <thead>\n    <tr style=\"text-align: right;\">\n      <th></th>\n      <th>index</th>\n      <th>text</th>\n      <th>toxic</th>\n      <th>severe_toxic</th>\n      <th>obscene</th>\n      <th>threat</th>\n      <th>insult</th>\n      <th>identity_hate</th>\n    </tr>\n  </thead>\n  <tbody>\n    <tr>\n      <th>0</th>\n      <td>0</td>\n      <td>real faker tweet</td>\n      <td>0</td>\n      <td>0</td>\n      <td>0</td>\n      <td>0</td>\n      <td>0</td>\n      <td>0</td>\n    </tr>\n    <tr>\n      <th>1</th>\n      <td>1</td>\n      <td>Lmfao</td>\n      <td>0</td>\n      <td>0</td>\n      <td>0</td>\n      <td>0</td>\n      <td>0</td>\n      <td>0</td>\n    </tr>\n    <tr>\n      <th>2</th>\n      <td>2</td>\n      <td>bruh, the best teemo player from my country is...</td>\n      <td>0</td>\n      <td>0</td>\n      <td>0</td>\n      <td>0</td>\n      <td>0</td>\n      <td>0</td>\n    </tr>\n    <tr>\n      <th>3</th>\n      <td>3</td>\n      <td>me and nunu tiered 3 simped for adc</td>\n      <td>0</td>\n      <td>0</td>\n      <td>0</td>\n      <td>0</td>\n      <td>0</td>\n      <td>0</td>\n    </tr>\n    <tr>\n      <th>4</th>\n      <td>4</td>\n      <td>yeah but i think since seraphine was released ...</td>\n      <td>0</td>\n      <td>0</td>\n      <td>0</td>\n      <td>0</td>\n      <td>0</td>\n      <td>0</td>\n    </tr>\n  </tbody>\n</table>\n</div>"
     },
     "execution_count": 91,
     "metadata": {},
     "output_type": "execute_result"
    }
   ],
   "source": [
    "df.head()"
   ],
   "metadata": {
    "collapsed": false,
    "ExecuteTime": {
     "end_time": "2023-09-21T05:49:33.855408Z",
     "start_time": "2023-09-21T05:49:33.853259Z"
    }
   },
   "id": "c796aba1bcf541a"
  },
  {
   "cell_type": "code",
   "execution_count": 92,
   "outputs": [
    {
     "name": "stdout",
     "output_type": "stream",
     "text": [
      "toxic: 562\n",
      "severe_toxic: 4\n",
      "obscene: 262\n",
      "threat: 7\n",
      "insult: 137\n",
      "identity_hate: 11\n",
      "clean: 2383\n"
     ]
    }
   ],
   "source": [
    "for col in ['toxic', 'severe_toxic', 'obscene', 'threat', 'insult', 'identity_hate']:\n",
    "    print(f\"{col}: {len(df[df[col] == 1])}\")\n",
    "\n",
    "print(f\"clean: {len(df[(df['toxic'] == 0) & (df['severe_toxic'] == 0) & (df['obscene'] == 0) & (df['threat'] == 0) & (df['insult'] == 0) & (df['identity_hate'] == 0)])}\")"
   ],
   "metadata": {
    "collapsed": false,
    "ExecuteTime": {
     "end_time": "2023-09-21T05:49:34.329884Z",
     "start_time": "2023-09-21T05:49:34.327955Z"
    }
   },
   "id": "962a72c74869a37b"
  },
  {
   "cell_type": "code",
   "execution_count": 93,
   "outputs": [
    {
     "name": "stdout",
     "output_type": "stream",
     "text": [
      "toxic: 230\n",
      "severe_toxic: 0\n",
      "obscene: 0\n",
      "threat: 0\n",
      "insult: 0\n",
      "identity_hate: 0\n"
     ]
    }
   ],
   "source": [
    "print(f\"toxic: {len(df[(df['toxic'] == 1) & (df['severe_toxic'] == 0) & (df['obscene'] == 0) & (df['threat'] == 0) & (df['insult'] == 0) & (df['identity_hate'] == 0)])}\")\n",
    "print(f\"severe_toxic: {len(df[(df['toxic'] == 0) & (df['severe_toxic'] == 1) & (df['obscene'] == 0) & (df['threat'] == 0) & (df['insult'] == 0) & (df['identity_hate'] == 0)])}\")\n",
    "print(f\"obscene: {len(df[(df['toxic'] == 0) & (df['severe_toxic'] == 0) & (df['obscene'] == 1) & (df['threat'] == 0) & (df['insult'] == 0) & (df['identity_hate'] == 0)])}\")\n",
    "print(f\"threat: {len(df[(df['toxic'] == 0) & (df['severe_toxic'] == 0) & (df['obscene'] == 0) & (df['threat'] == 1) & (df['insult'] == 0) & (df['identity_hate'] == 0)])}\")\n",
    "print(f\"insult: {len(df[(df['toxic'] == 0) & (df['severe_toxic'] == 0) & (df['obscene'] == 0) & (df['threat'] == 0) & (df['insult'] == 1) & (df['identity_hate'] == 0)])}\")\n",
    "print(f\"identity_hate: {len(df[(df['toxic'] == 0) & (df['severe_toxic'] == 0) & (df['obscene'] == 0) & (df['threat'] == 0) & (df['insult'] == 0) & (df['identity_hate'] == 1)])}\")"
   ],
   "metadata": {
    "collapsed": false,
    "ExecuteTime": {
     "end_time": "2023-09-21T05:49:34.504143Z",
     "start_time": "2023-09-21T05:49:34.498400Z"
    }
   },
   "id": "c9d3de060ade8e19"
  },
  {
   "cell_type": "markdown",
   "source": [
    "# Data Labeling with One-hot Encoding"
   ],
   "metadata": {
    "collapsed": false
   },
   "id": "f596f965e18e9d24"
  },
  {
   "cell_type": "code",
   "execution_count": 94,
   "outputs": [],
   "source": [
    "# Convert separate columns to one-hot encoding\n",
    "df['label'] = df[['toxic', 'severe_toxic', 'obscene', 'threat', 'insult', 'identity_hate']].values.tolist()\n",
    "# Remove unused columns\n",
    "df = df.drop(columns=['toxic', 'severe_toxic', 'obscene', 'threat', 'insult', 'identity_hate'])"
   ],
   "metadata": {
    "collapsed": false,
    "ExecuteTime": {
     "end_time": "2023-09-21T05:49:34.835006Z",
     "start_time": "2023-09-21T05:49:34.833671Z"
    }
   },
   "id": "5dac7d613a0fafb3"
  },
  {
   "cell_type": "code",
   "execution_count": 95,
   "outputs": [
    {
     "name": "stdout",
     "output_type": "stream",
     "text": [
      "Before: 2945\n",
      "After: 2613\n"
     ]
    }
   ],
   "source": [
    "print(f\"Before: {len(df)}\")\n",
    "# Remove mixed labels\n",
    "df = df[df['label'].apply(lambda x: sum(x) == 0 or sum(x) == 1)]\n",
    "print(f\"After: {len(df)}\")"
   ],
   "metadata": {
    "collapsed": false,
    "ExecuteTime": {
     "end_time": "2023-09-21T05:49:34.992033Z",
     "start_time": "2023-09-21T05:49:34.989338Z"
    }
   },
   "id": "da26919d5b00f269"
  },
  {
   "cell_type": "code",
   "execution_count": 96,
   "outputs": [],
   "source": [
    "# Convert one-hot encoding to string labels\n",
    "df['label'] = df['label'].apply(\n",
    "    lambda x: 'clean' if x == [0, 0, 0, 0, 0, 0] else\n",
    "    'toxic' if x == [1, 0, 0, 0, 0, 0] else\n",
    "    'severe_toxic' if x == [0, 1, 0, 0, 0, 0] else\n",
    "    'obscene' if x == [0, 0, 1, 0, 0, 0] else\n",
    "    'threat' if x == [0, 0, 0, 1, 0, 0] else\n",
    "    'insult' if x == [0, 0, 0, 0, 1, 0] else\n",
    "    'identity_hate' if x == [0, 0, 0, 0, 0, 1] else\n",
    "    \"mixed\")"
   ],
   "metadata": {
    "collapsed": false,
    "ExecuteTime": {
     "end_time": "2023-09-21T05:49:35.156255Z",
     "start_time": "2023-09-21T05:49:35.153898Z"
    }
   },
   "id": "ae20fe58f4839921"
  },
  {
   "cell_type": "code",
   "execution_count": 97,
   "outputs": [
    {
     "data": {
      "text/plain": "label\nclean    2383\ntoxic     230\nName: count, dtype: int64"
     },
     "execution_count": 97,
     "metadata": {},
     "output_type": "execute_result"
    }
   ],
   "source": [
    "df['label'].value_counts()"
   ],
   "metadata": {
    "collapsed": false,
    "ExecuteTime": {
     "end_time": "2023-09-21T05:49:35.314240Z",
     "start_time": "2023-09-21T05:49:35.312809Z"
    }
   },
   "id": "e23d7454708679f0"
  },
  {
   "cell_type": "markdown",
   "source": [
    "# Sampling\n",
    "Sample 200 from each class, since the dataset is imbalanced."
   ],
   "metadata": {
    "collapsed": false
   },
   "id": "4b2f1856f1963573"
  },
  {
   "cell_type": "code",
   "execution_count": 98,
   "outputs": [],
   "source": [
    "df = df.groupby('label').apply(lambda x: x.sample(200, random_state=42))\n",
    "df = df.reset_index(drop=True)"
   ],
   "metadata": {
    "collapsed": false,
    "ExecuteTime": {
     "end_time": "2023-09-21T05:49:35.932064Z",
     "start_time": "2023-09-21T05:49:35.924427Z"
    }
   },
   "id": "c0694376851c68d4"
  },
  {
   "cell_type": "code",
   "execution_count": 99,
   "outputs": [
    {
     "data": {
      "text/plain": "   index                                               text  label\n0    646                             are you twitch single?  clean\n1   2769      @drsoils no need to be sorry, I liked it. LOL  clean\n2   2097  My sens is irrelevant to you, do what's comfor...  clean\n3   2389                                        kekwwwwwwww  clean\n4   2045                           noice team work forsenCD  clean",
      "text/html": "<div>\n<style scoped>\n    .dataframe tbody tr th:only-of-type {\n        vertical-align: middle;\n    }\n\n    .dataframe tbody tr th {\n        vertical-align: top;\n    }\n\n    .dataframe thead th {\n        text-align: right;\n    }\n</style>\n<table border=\"1\" class=\"dataframe\">\n  <thead>\n    <tr style=\"text-align: right;\">\n      <th></th>\n      <th>index</th>\n      <th>text</th>\n      <th>label</th>\n    </tr>\n  </thead>\n  <tbody>\n    <tr>\n      <th>0</th>\n      <td>646</td>\n      <td>are you twitch single?</td>\n      <td>clean</td>\n    </tr>\n    <tr>\n      <th>1</th>\n      <td>2769</td>\n      <td>@drsoils no need to be sorry, I liked it. LOL</td>\n      <td>clean</td>\n    </tr>\n    <tr>\n      <th>2</th>\n      <td>2097</td>\n      <td>My sens is irrelevant to you, do what's comfor...</td>\n      <td>clean</td>\n    </tr>\n    <tr>\n      <th>3</th>\n      <td>2389</td>\n      <td>kekwwwwwwww</td>\n      <td>clean</td>\n    </tr>\n    <tr>\n      <th>4</th>\n      <td>2045</td>\n      <td>noice team work forsenCD</td>\n      <td>clean</td>\n    </tr>\n  </tbody>\n</table>\n</div>"
     },
     "execution_count": 99,
     "metadata": {},
     "output_type": "execute_result"
    }
   ],
   "source": [
    "df.head()"
   ],
   "metadata": {
    "collapsed": false,
    "ExecuteTime": {
     "end_time": "2023-09-21T05:49:36.876946Z",
     "start_time": "2023-09-21T05:49:36.873403Z"
    }
   },
   "id": "2bd902ed2e23cc15"
  },
  {
   "cell_type": "code",
   "execution_count": 100,
   "outputs": [],
   "source": [
    "df.to_csv('../data/sampled.csv', index=False)"
   ],
   "metadata": {
    "collapsed": false,
    "ExecuteTime": {
     "end_time": "2023-09-21T05:50:01.451679Z",
     "start_time": "2023-09-21T05:50:01.444701Z"
    }
   },
   "id": "d21f615bf3a577de"
  }
 ],
 "metadata": {
  "kernelspec": {
   "display_name": "Python 3",
   "language": "python",
   "name": "python3"
  },
  "language_info": {
   "codemirror_mode": {
    "name": "ipython",
    "version": 2
   },
   "file_extension": ".py",
   "mimetype": "text/x-python",
   "name": "python",
   "nbconvert_exporter": "python",
   "pygments_lexer": "ipython2",
   "version": "2.7.6"
  }
 },
 "nbformat": 4,
 "nbformat_minor": 5
}
