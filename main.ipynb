{
 "cells": [
  {
   "cell_type": "code",
   "execution_count": 1,
   "id": "initial_id",
   "metadata": {
    "collapsed": true,
    "ExecuteTime": {
     "end_time": "2023-09-05T08:32:09.158758Z",
     "start_time": "2023-09-05T08:30:54.656066Z"
    }
   },
   "outputs": [
    {
     "name": "stdout",
     "output_type": "stream",
     "text": [
      "Cloning into 'GGWP-Toxic-Behavior'...\r\n",
      "remote: Enumerating objects: 717, done.\u001B[K\r\n",
      "remote: Counting objects: 100% (49/49), done.\u001B[K\r\n",
      "remote: Compressing objects: 100% (33/33), done.\u001B[K\r\n",
      "remote: Total 717 (delta 21), reused 38 (delta 15), pack-reused 668\u001B[K\r\n",
      "Receiving objects: 100% (717/717), 297.88 MiB | 4.10 MiB/s, done.\r\n",
      "Resolving deltas: 100% (224/224), done.\r\n"
     ]
    }
   ],
   "source": [
    "!git clone https://github.com/pl2599/GGWP-Toxic-Behavior.git"
   ]
  },
  {
   "cell_type": "code",
   "execution_count": 21,
   "outputs": [],
   "source": [
    "import os\n",
    "import pandas as pd"
   ],
   "metadata": {
    "collapsed": false,
    "ExecuteTime": {
     "end_time": "2023-09-05T09:12:01.510847Z",
     "start_time": "2023-09-05T09:12:01.508559Z"
    }
   },
   "id": "462d107e8f493325"
  },
  {
   "cell_type": "code",
   "execution_count": 7,
   "outputs": [],
   "source": [
    "df = pd.read_csv('GGWP-Toxic-Behavior/data/labeled/combined.csv')"
   ],
   "metadata": {
    "collapsed": false,
    "ExecuteTime": {
     "end_time": "2023-09-05T08:32:52.578541Z",
     "start_time": "2023-09-05T08:32:52.570748Z"
    }
   },
   "id": "c11d1f2dd7c4afb7"
  },
  {
   "cell_type": "code",
   "execution_count": 12,
   "outputs": [
    {
     "data": {
      "text/plain": "   index                                               text  toxic  \\\n0      0                                   real faker tweet      0   \n1      1                                              Lmfao      0   \n2      2  bruh, the best teemo player from my country is...      0   \n3      3                me and nunu tiered 3 simped for adc      0   \n4      4  yeah but i think since seraphine was released ...      0   \n\n   severe_toxic  obscene  threat  insult  identity_hate  \n0             0        0       0       0              0  \n1             0        0       0       0              0  \n2             0        0       0       0              0  \n3             0        0       0       0              0  \n4             0        0       0       0              0  ",
      "text/html": "<div>\n<style scoped>\n    .dataframe tbody tr th:only-of-type {\n        vertical-align: middle;\n    }\n\n    .dataframe tbody tr th {\n        vertical-align: top;\n    }\n\n    .dataframe thead th {\n        text-align: right;\n    }\n</style>\n<table border=\"1\" class=\"dataframe\">\n  <thead>\n    <tr style=\"text-align: right;\">\n      <th></th>\n      <th>index</th>\n      <th>text</th>\n      <th>toxic</th>\n      <th>severe_toxic</th>\n      <th>obscene</th>\n      <th>threat</th>\n      <th>insult</th>\n      <th>identity_hate</th>\n    </tr>\n  </thead>\n  <tbody>\n    <tr>\n      <th>0</th>\n      <td>0</td>\n      <td>real faker tweet</td>\n      <td>0</td>\n      <td>0</td>\n      <td>0</td>\n      <td>0</td>\n      <td>0</td>\n      <td>0</td>\n    </tr>\n    <tr>\n      <th>1</th>\n      <td>1</td>\n      <td>Lmfao</td>\n      <td>0</td>\n      <td>0</td>\n      <td>0</td>\n      <td>0</td>\n      <td>0</td>\n      <td>0</td>\n    </tr>\n    <tr>\n      <th>2</th>\n      <td>2</td>\n      <td>bruh, the best teemo player from my country is...</td>\n      <td>0</td>\n      <td>0</td>\n      <td>0</td>\n      <td>0</td>\n      <td>0</td>\n      <td>0</td>\n    </tr>\n    <tr>\n      <th>3</th>\n      <td>3</td>\n      <td>me and nunu tiered 3 simped for adc</td>\n      <td>0</td>\n      <td>0</td>\n      <td>0</td>\n      <td>0</td>\n      <td>0</td>\n      <td>0</td>\n    </tr>\n    <tr>\n      <th>4</th>\n      <td>4</td>\n      <td>yeah but i think since seraphine was released ...</td>\n      <td>0</td>\n      <td>0</td>\n      <td>0</td>\n      <td>0</td>\n      <td>0</td>\n      <td>0</td>\n    </tr>\n  </tbody>\n</table>\n</div>"
     },
     "execution_count": 12,
     "metadata": {},
     "output_type": "execute_result"
    }
   ],
   "source": [
    "df.head()"
   ],
   "metadata": {
    "collapsed": false,
    "ExecuteTime": {
     "end_time": "2023-09-05T08:56:40.655432Z",
     "start_time": "2023-09-05T08:56:40.651968Z"
    }
   },
   "id": "2cf3b9847606904"
  },
  {
   "cell_type": "code",
   "execution_count": 13,
   "outputs": [],
   "source": [
    "df['label'] = df[['toxic', 'severe_toxic', 'obscene', 'threat', 'insult', 'identity_hate']].values.tolist()"
   ],
   "metadata": {
    "collapsed": false,
    "ExecuteTime": {
     "end_time": "2023-09-05T09:02:59.029171Z",
     "start_time": "2023-09-05T09:02:59.027650Z"
    }
   },
   "id": "9633e2fdd2ccce3f"
  },
  {
   "cell_type": "code",
   "execution_count": 15,
   "outputs": [],
   "source": [
    "df['label'] = df['label'].apply(lambda x: 'clean' if x == [0, 0, 0, 0, 0, 0] else 'toxic' if x == [1, 0, 0, 0, 0, 0] else 'severe_toxic' if x == [0, 1, 0, 0, 0, 0] else 'obscene' if x == [0, 0, 1, 0, 0, 0] else 'threat' if x == [0, 0, 0, 1, 0, 0] else 'insult' if x == [0, 0, 0, 0, 1, 0] else 'identity_hate')"
   ],
   "metadata": {
    "collapsed": false,
    "ExecuteTime": {
     "end_time": "2023-09-05T09:04:26.075041Z",
     "start_time": "2023-09-05T09:04:26.071752Z"
    }
   },
   "id": "2bd84af65eef12c3"
  },
  {
   "cell_type": "code",
   "execution_count": 22,
   "outputs": [],
   "source": [
    "with open('prompts/original_prompt.txt', 'r') as f:\n",
    "    original_prompt = f.read()\n",
    "    \n",
    "if not os.path.exists('outputs'):\n",
    "    os.makedirs('outputs')"
   ],
   "metadata": {
    "collapsed": false,
    "ExecuteTime": {
     "end_time": "2023-09-05T09:12:03.532300Z",
     "start_time": "2023-09-05T09:12:03.530111Z"
    }
   },
   "id": "41e8f70f05f047ed"
  },
  {
   "cell_type": "code",
   "execution_count": null,
   "outputs": [],
   "source": [
    "# 1. Load the prompt\n",
    "# 2. Predict the result\n",
    "# 3. Evaluate (accuracy)\n",
    "# 4. Sample the result for prompt optimization\n",
    "# 5. Get new prompt\n",
    "# 6. Loop until reach specified n or acc or stagnant"
   ],
   "metadata": {
    "collapsed": false
   },
   "id": "ee7017eeb4dda5c1"
  },
  {
   "cell_type": "code",
   "execution_count": null,
   "outputs": [],
   "source": [
    "# TODO: Compare performance optimization via GPT-3.5 and GPT-4 and base performance of GPT-3.5 and GPT-4 without optimization\n",
    "# TODO: Save raw data, logging, add resume-ability, handle OpenAI error"
   ],
   "metadata": {
    "collapsed": false
   },
   "id": "a361e0602d575273"
  },
  {
   "cell_type": "code",
   "execution_count": null,
   "outputs": [],
   "source": [
    "# Message: <sampplmessage>\n",
    "# Predicted class: <prediction>\n",
    "# Predicted reason: <reason>\n",
    "# Ground truth: <ground_truth>"
   ],
   "metadata": {
    "collapsed": false
   },
   "id": "6fa14b7e76924915"
  }
 ],
 "metadata": {
  "kernelspec": {
   "display_name": "Python 3",
   "language": "python",
   "name": "python3"
  },
  "language_info": {
   "codemirror_mode": {
    "name": "ipython",
    "version": 2
   },
   "file_extension": ".py",
   "mimetype": "text/x-python",
   "name": "python",
   "nbconvert_exporter": "python",
   "pygments_lexer": "ipython2",
   "version": "2.7.6"
  }
 },
 "nbformat": 4,
 "nbformat_minor": 5
}
